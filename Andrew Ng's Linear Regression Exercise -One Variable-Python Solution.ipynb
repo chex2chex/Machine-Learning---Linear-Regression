{
 "cells": [
  {
   "cell_type": "markdown",
   "metadata": {},
   "source": [
    "# Linear Regression With One Variable"
   ]
  },
  {
   "cell_type": "code",
   "execution_count": 13,
   "metadata": {},
   "outputs": [],
   "source": [
    "'''\n",
    "This is a python implementation of the Linear Regression exercise in week 2 of Coursera's online Machine Learning \n",
    "course, taught by Dr. Andrew Ng. We are provided with data for population of cities and profit made in each city by\n",
    "a restaurant. The task is to use linear regression to determine new cities the restaurant should expand \n",
    "to. Our goal is to to dtermine how population affects profit. \n",
    "'''\n",
    "\n",
    "#Let's start by importing relevant python libraries.\n",
    "import numpy as np\n",
    "import pandas as pd\n",
    "import matplotlib.pyplot as plt\n",
    "import seaborn as sns"
   ]
  },
  {
   "cell_type": "code",
   "execution_count": 14,
   "metadata": {},
   "outputs": [],
   "source": [
    "'''\n",
    "Let's import the data into a Pandas dataframe called data. The path provided is the location of the file \n",
    "(ex1data1.txt) containing the dataset. I placed the file on my desktop. There are 2 columns in the data, Population\n",
    "and Profit. \n",
    "'''\n",
    "\n",
    "data = pd.read_csv('C://Users//chex2//Desktop/ex1data1.txt', names=['Population', 'Profit']) "
   ]
  },
  {
   "cell_type": "code",
   "execution_count": 15,
   "metadata": {},
   "outputs": [
    {
     "data": {
      "text/html": [
       "<div>\n",
       "<style scoped>\n",
       "    .dataframe tbody tr th:only-of-type {\n",
       "        vertical-align: middle;\n",
       "    }\n",
       "\n",
       "    .dataframe tbody tr th {\n",
       "        vertical-align: top;\n",
       "    }\n",
       "\n",
       "    .dataframe thead th {\n",
       "        text-align: right;\n",
       "    }\n",
       "</style>\n",
       "<table border=\"1\" class=\"dataframe\">\n",
       "  <thead>\n",
       "    <tr style=\"text-align: right;\">\n",
       "      <th></th>\n",
       "      <th>Population</th>\n",
       "      <th>Profit</th>\n",
       "    </tr>\n",
       "  </thead>\n",
       "  <tbody>\n",
       "    <tr>\n",
       "      <th>0</th>\n",
       "      <td>6.1101</td>\n",
       "      <td>17.5920</td>\n",
       "    </tr>\n",
       "    <tr>\n",
       "      <th>1</th>\n",
       "      <td>5.5277</td>\n",
       "      <td>9.1302</td>\n",
       "    </tr>\n",
       "    <tr>\n",
       "      <th>2</th>\n",
       "      <td>8.5186</td>\n",
       "      <td>13.6620</td>\n",
       "    </tr>\n",
       "    <tr>\n",
       "      <th>3</th>\n",
       "      <td>7.0032</td>\n",
       "      <td>11.8540</td>\n",
       "    </tr>\n",
       "    <tr>\n",
       "      <th>4</th>\n",
       "      <td>5.8598</td>\n",
       "      <td>6.8233</td>\n",
       "    </tr>\n",
       "  </tbody>\n",
       "</table>\n",
       "</div>"
      ],
      "text/plain": [
       "   Population   Profit\n",
       "0      6.1101  17.5920\n",
       "1      5.5277   9.1302\n",
       "2      8.5186  13.6620\n",
       "3      7.0032  11.8540\n",
       "4      5.8598   6.8233"
      ]
     },
     "execution_count": 15,
     "metadata": {},
     "output_type": "execute_result"
    }
   ],
   "source": [
    "data.head()# Viewing the first 5 records in the dataset."
   ]
  },
  {
   "cell_type": "code",
   "execution_count": 16,
   "metadata": {},
   "outputs": [
    {
     "data": {
      "text/plain": [
       "Text(0.5, 1.0, 'Scatter Plot of Training Data')"
      ]
     },
     "execution_count": 16,
     "metadata": {},
     "output_type": "execute_result"
    },
    {
     "data": {
      "image/png": "[encoded data removed]",
      "text/plain": [
       "<Figure size 432x288 with 1 Axes>"
      ]
     },
     "metadata": {
      "needs_background": "light"
     },
     "output_type": "display_data"
    }
   ],
   "source": [
    "'''\n",
    "We need to visualize the relationship between Population and Profit. We will use matplotlib to create a \n",
    "scatter plot\n",
    "'''\n",
    "X = data['Population'].values #Assign the values in the 'Population' column to X\n",
    "y = data['Profit'].values #Assign the values in the 'Profit' column to y\n",
    "m = len(y)#This is the length of the training set\n",
    "plt.scatter(X,y, c='red', marker='x')#Plot Population by Profit using a scatter plot\n",
    "plt.ylabel('Profit in 10,000s')#Label on the y axis\n",
    "plt.xlabel('Population of City in 10,000s')#Label on the X axis\n",
    "plt.title('Scatter Plot of Training Data')#Title for the plot\n",
    "\n",
    "#The plot is shown below:"
   ]
  },
  {
   "cell_type": "code",
   "execution_count": 17,
   "metadata": {},
   "outputs": [
    {
     "name": "stdout",
     "output_type": "stream",
     "text": [
      "32.072733877455676\n"
     ]
    }
   ],
   "source": [
    "'''The next task is to use gradient descent to minimize the cost (error of prediction). Before we do that let's \n",
    "determine the current cost.\n",
    "'''\n",
    "X = np.append(np.ones([m,1]), X.reshape(m,1), axis=1)#Append the bias term to X and reshape X to a mx1 matrix\n",
    "y = y.reshape(m,1)#Reshape y to mx1 matrix\n",
    "theta = np.zeros([2,1])#Set initial coefficient to zero\n",
    "\n",
    "def computeCost(X,y, theta):\n",
    "    '''\n",
    "    This function takes in the X and y matrices as well as the initial \n",
    "    theta values(coefficients) and returns the cost(error of prediction)\n",
    "    '''\n",
    "    m = len(y)#This is the length of the training set\n",
    "    #h = np.dot(X,theta)\n",
    "    h = X.dot(theta)#The hypothesis\n",
    "    J = 1/(2*m)*(np.sum((h-y)**2))#The cost function\n",
    "    return J #return the cost\n",
    "\n",
    "cost = computeCost(X,y, theta)#Call the function and pass in values for X, y, and theta to compute the cost.\n",
    "print(cost)#Print out the cost"
   ]
  },
  {
   "cell_type": "code",
   "execution_count": 18,
   "metadata": {},
   "outputs": [],
   "source": [
    "'''\n",
    "Now that we know the cost, we will use gradient descent to minimize it. We will use alpha to represent the \n",
    "learning rate and run the algorithm for 1500 iterations\n",
    "'''\n",
    "iter = 1500\n",
    "alpha = 0.01\n",
    "\n",
    "def gradientDescent(X, y, theta, alpha, iter):\n",
    "    '''\n",
    "    This function takes in the X and y matrices, the intial theta values(coefficients), the learning rate, \n",
    "    and the number of iterations. The output will be the a new set of coefficeient of the linear regression (theta),\n",
    "    optimized for making predictions.\n",
    "    '''\n",
    "    \n",
    "    J_history = []#Array for storing the cost values for each iteration\n",
    "    m = len(y)#This is the length of the training set\n",
    "    \n",
    "    for i in range(iter): #Loop for 1500 iterations\n",
    "        #temp1 = np.dot(X, theta) - y\n",
    "        #temp2 = np.dot(X.T, temp1)\n",
    "        #theta = theta - (alpha/m) * temp2        \n",
    "        #h = np.dot(X,theta)\n",
    "        h = X.dot(theta) # The hypothesis\n",
    "        theta = theta - (alpha/m)*(X.T.dot(h-y))   #Gradient descent function\n",
    "        J_history.append(computeCost(X, y, theta))  #Append the cost to the J+history array\n",
    "    return theta, J_history     #return the final values of theta and the J_history array"
   ]
  },
  {
   "cell_type": "code",
   "execution_count": 19,
   "metadata": {},
   "outputs": [
    {
     "name": "stdout",
     "output_type": "stream",
     "text": [
      "[[-3.63029144]\n",
      " [ 1.16636235]]\n"
     ]
    }
   ],
   "source": [
    "#Call the function and pass in values for X, y, and theta, alpha, and iter to compute \n",
    "#new coefficient values.\n",
    "\n",
    "new_theta, J_history = gradientDescent(X, y, theta, alpha, iter)\n",
    "print(new_theta)"
   ]
  },
  {
   "cell_type": "code",
   "execution_count": 20,
   "metadata": {},
   "outputs": [
    {
     "name": "stdout",
     "output_type": "stream",
     "text": [
      "4.483388256587725\n"
     ]
    }
   ],
   "source": [
    "#Using the new values of the coefficient to compute the cost, we see a huge improvement. From 32.07 to 4.48\n",
    "\n",
    "new_cost = computeCost(X,y, new_theta)\n",
    "print(new_cost)"
   ]
  },
  {
   "cell_type": "code",
   "execution_count": 21,
   "metadata": {},
   "outputs": [
    {
     "data": {
      "text/plain": [
       "Text(0.5, 1.0, 'Training Data with Linear Regression Fit')"
      ]
     },
     "execution_count": 21,
     "metadata": {},
     "output_type": "execute_result"
    },
    {
     "data": {
      "image/png": "[encoded data removed]",
      "text/plain": [
       "<Figure size 432x288 with 1 Axes>"
      ]
     },
     "metadata": {
      "needs_background": "light"
     },
     "output_type": "display_data"
    }
   ],
   "source": [
    "#Now we plot the linear regression on the training data\n",
    "\n",
    "plt.scatter(X[:,1].reshape([m,1]),y, c='red', marker='x', label='Training Data')\n",
    "plt.plot(X[:,1].reshape([m,1]), np.dot(X, new_theta), label='Linear Regression')\n",
    "plt.ylabel('Profit in 10,000s')\n",
    "plt.xlabel('Population of City in 10,000s')\n",
    "plt.legend()\n",
    "plt.title('Training Data with Linear Regression Fit')"
   ]
  },
  {
   "cell_type": "code",
   "execution_count": 22,
   "metadata": {},
   "outputs": [
    {
     "name": "stdout",
     "output_type": "stream",
     "text": [
      "For a population of 3500 people, profit will be 4519.7678677017675 \n",
      "For a population of 70000 people, profit will be 45342.45012944714\n"
     ]
    }
   ],
   "source": [
    "# PREDICTIONS\n",
    "#Now we define a function for predictiing profit giving population of a city\n",
    "\n",
    "First_City = 3500\n",
    "Second_City = 70000\n",
    "\n",
    "def prediction(X, new_theta):\n",
    "    '''\n",
    "    This fucntion takes in population and predicts profit.\n",
    "    '''\n",
    "    pred = np.dot(X,new_theta)* 10000 #We use the new coffeicients derived from the gradient descent algorithm.\n",
    "    return pred #The prediction\n",
    "\n",
    "predict1 = (prediction(([1, 3.5]),(new_theta)))\n",
    "predict2 = (prediction(([1, 7]),(new_theta)))\n",
    "\n",
    "print(f'For a population of {First_City} people, profit will be {predict1[0]} ')#Print prediction1\n",
    "print(f'For a population of {Second_City} people, profit will be {predict2[0]}')#Print prediction2"
   ]
  }
 ],
 "metadata": {
  "kernelspec": {
   "display_name": "Python 3",
   "language": "python",
   "name": "python3"
  },
  "language_info": {
   "codemirror_mode": {
    "name": "ipython",
    "version": 3
   },
   "file_extension": ".py",
   "mimetype": "text/x-python",
   "name": "python",
   "nbconvert_exporter": "python",
   "pygments_lexer": "ipython3",
   "version": "3.7.3"
  }
 },
 "nbformat": 4,
 "nbformat_minor": 2
}
