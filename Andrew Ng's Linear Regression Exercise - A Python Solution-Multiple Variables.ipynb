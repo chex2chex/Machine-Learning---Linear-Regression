{
 "cells": [
  {
   "cell_type": "markdown",
   "metadata": {},
   "source": [
    "# Linear regression with multiple variables (Part 1)"
   ]
  },
  {
   "cell_type": "markdown",
   "metadata": {},
   "source": [
    "This is a python implementation of the Linear Regression exercise in week 2 of Coursera's online Machine Learning \n",
    "course, taught by Dr. Andrew Ng. We are provided with data for house sizes in square feet and number of bedrooms.\n",
    "The task is to use linear regression to determine how the size and the number of bedrooms affects price of the house. Our ultimate aim is to predict the price of a new house given the size in square feet and the number of bedrooms."
   ]
  },
  {
   "cell_type": "code",
   "execution_count": 2,
   "metadata": {},
   "outputs": [],
   "source": [
    "#Let's start by importing relevant python libraries.\n",
    "import numpy as np\n",
    "import pandas as pd\n",
    "import matplotlib.pyplot as plt\n",
    "import seaborn as sns"
   ]
  },
  {
   "cell_type": "markdown",
   "metadata": {},
   "source": [
    "Let's import the data into a Pandas dataframe called data. There are 3 columns in the dataset, Size, Bedrooms, and Price."
   ]
  },
  {
   "cell_type": "code",
   "execution_count": 3,
   "metadata": {},
   "outputs": [],
   "source": [
    "data2 = pd.read_csv('ex1data2.txt', names=['Size', 'Bedrooms', 'Price'])"
   ]
  },
  {
   "cell_type": "code",
   "execution_count": 4,
   "metadata": {},
   "outputs": [
    {
     "data": {
      "text/html": [
       "<div>\n",
       "<style scoped>\n",
       "    .dataframe tbody tr th:only-of-type {\n",
       "        vertical-align: middle;\n",
       "    }\n",
       "\n",
       "    .dataframe tbody tr th {\n",
       "        vertical-align: top;\n",
       "    }\n",
       "\n",
       "    .dataframe thead th {\n",
       "        text-align: right;\n",
       "    }\n",
       "</style>\n",
       "<table border=\"1\" class=\"dataframe\">\n",
       "  <thead>\n",
       "    <tr style=\"text-align: right;\">\n",
       "      <th></th>\n",
       "      <th>Size</th>\n",
       "      <th>Bedrooms</th>\n",
       "      <th>Price</th>\n",
       "    </tr>\n",
       "  </thead>\n",
       "  <tbody>\n",
       "    <tr>\n",
       "      <th>0</th>\n",
       "      <td>2104</td>\n",
       "      <td>3</td>\n",
       "      <td>399900</td>\n",
       "    </tr>\n",
       "    <tr>\n",
       "      <th>1</th>\n",
       "      <td>1600</td>\n",
       "      <td>3</td>\n",
       "      <td>329900</td>\n",
       "    </tr>\n",
       "    <tr>\n",
       "      <th>2</th>\n",
       "      <td>2400</td>\n",
       "      <td>3</td>\n",
       "      <td>369000</td>\n",
       "    </tr>\n",
       "    <tr>\n",
       "      <th>3</th>\n",
       "      <td>1416</td>\n",
       "      <td>2</td>\n",
       "      <td>232000</td>\n",
       "    </tr>\n",
       "    <tr>\n",
       "      <th>4</th>\n",
       "      <td>3000</td>\n",
       "      <td>4</td>\n",
       "      <td>539900</td>\n",
       "    </tr>\n",
       "  </tbody>\n",
       "</table>\n",
       "</div>"
      ],
      "text/plain": [
       "   Size  Bedrooms   Price\n",
       "0  2104         3  399900\n",
       "1  1600         3  329900\n",
       "2  2400         3  369000\n",
       "3  1416         2  232000\n",
       "4  3000         4  539900"
      ]
     },
     "execution_count": 4,
     "metadata": {},
     "output_type": "execute_result"
    }
   ],
   "source": [
    "data2.head() ## View the first 5 records of the dataset."
   ]
  },
  {
   "cell_type": "code",
   "execution_count": 5,
   "metadata": {},
   "outputs": [],
   "source": [
    "X = data2.drop(['Price'], axis=1)  ## Assign all but the price field to the independent variable X\n",
    "y = data2['Price'] ## Assign the price field to the dependent variable y \n",
    "m=len(y) ## m is the length of the training set"
   ]
  },
  {
   "cell_type": "markdown",
   "metadata": {},
   "source": [
    "# Feature Scaling"
   ]
  },
  {
   "cell_type": "markdown",
   "metadata": {},
   "source": [
    "Looking at the values in the table above, we see that house sizes are about 1000 times the number of bedrooms. When\n",
    "features differ by such orders of magnitude, feature scaling becomes really important as it helps the \n",
    "gradient descent algorithm to converge faster. \n",
    "\n",
    "We will use the function below to normalize our features. The method we use is to subtract each feature from its \n",
    "mean and then divide by its standard deviation."
   ]
  },
  {
   "cell_type": "code",
   "execution_count": 6,
   "metadata": {},
   "outputs": [],
   "source": [
    "def featureNormalize(X):\n",
    "    '''\n",
    "    This function takes the features as input and\n",
    "    returns the normalized values, the mean, as well \n",
    "    as the standard deviation for each feature.\n",
    "    '''\n",
    "    X_norm = (X - np.mean(X))/np.std(X)\n",
    "    mu = np.mean(X)\n",
    "    sigma = np.std(X)\n",
    "    return X_norm, mu, sigma\n",
    "\n",
    "\n",
    "X, mean, std = featureNormalize(X) ## We call the function over the features"
   ]
  },
  {
   "cell_type": "code",
   "execution_count": 7,
   "metadata": {},
   "outputs": [],
   "source": [
    "X = np.append(np.ones([m,1]), X, axis=1) ## Append the bias term (field containing all ones) to X."
   ]
  },
  {
   "cell_type": "code",
   "execution_count": 8,
   "metadata": {},
   "outputs": [],
   "source": [
    "y = np.array(y).reshape(-1,1) ## reshape y to mx1 array."
   ]
  },
  {
   "cell_type": "code",
   "execution_count": 9,
   "metadata": {},
   "outputs": [],
   "source": [
    "theta = np.zeros([3,1]) ## Initialize theta (the coefficient) to a 3x1 zero vector."
   ]
  },
  {
   "cell_type": "markdown",
   "metadata": {},
   "source": [
    "# Cost Function"
   ]
  },
  {
   "attachments": {
    "image.png": {
     "image/png": "[encoded data removed]"
    }
   },
   "cell_type": "markdown",
   "metadata": {},
   "source": [
    "![image.png](attachment:image.png)"
   ]
  },
  {
   "cell_type": "markdown",
   "metadata": {},
   "source": [
    "We define the function to compute the cost (error of prediction)."
   ]
  },
  {
   "cell_type": "code",
   "execution_count": 13,
   "metadata": {},
   "outputs": [
    {
     "name": "stdout",
     "output_type": "stream",
     "text": [
      "65591548106.45744\n"
     ]
    }
   ],
   "source": [
    "def computeCostMulti(X,y, theta):\n",
    "    '''\n",
    "    This function takes in the the values for \n",
    "    the training set as well as initial values \n",
    "    of theta and returns the cost(J).\n",
    "    '''\n",
    "    m = len(y) ## length of the training data\n",
    "    h = X.dot(theta) ## The hypothesis\n",
    "    J = 1/(2*m)*(np.sum((h-y)**2)) ## Implementing the cost function\n",
    "    return J\n",
    "\n",
    "cost = computeCostMulti(X,y,theta) ## Call the function \n",
    "\n",
    "print(cost)"
   ]
  },
  {
   "cell_type": "markdown",
   "metadata": {},
   "source": [
    "We will attempt to minimize this value (65591548106.45744) using the gradient descent algorithm."
   ]
  },
  {
   "cell_type": "markdown",
   "metadata": {},
   "source": [
    "# Gradient Descent"
   ]
  },
  {
   "attachments": {
    "image.png": {
     "image/png": "[encoded data removed]"
    }
   },
   "cell_type": "markdown",
   "metadata": {},
   "source": [
    "# ![image.png](attachment:image.png)"
   ]
  },
  {
   "cell_type": "markdown",
   "metadata": {},
   "source": [
    "We define the gradient descent function."
   ]
  },
  {
   "cell_type": "code",
   "execution_count": 11,
   "metadata": {},
   "outputs": [
    {
     "name": "stdout",
     "output_type": "stream",
     "text": [
      "[[334302.06399328]\n",
      " [ 99411.44947359]\n",
      " [  3267.01285407]]\n"
     ]
    }
   ],
   "source": [
    "def gradientDescentMulti(X, y, theta, alpha, iter):\n",
    "    '''\n",
    "    This function takes in the values of the training set, \n",
    "    as well the intial theta values(coefficients), the \n",
    "    learning rate, and the number of iterations. The output \n",
    "    will be the a new set of coefficeients(theta), optimized \n",
    "    for making predictions, as well as the array of the cost \n",
    "    as it depreciates on each iteration.\n",
    "    '''\n",
    "    J_history = [] ## Array for storing the cost values on each iteration.\n",
    "    m = len(y) ## Length of the training set\n",
    "    for i in range(iter): ## Loop for 400 iterations\n",
    "        h = X.dot(theta) ## The hypothesis\n",
    "        theta = theta - (alpha/m)*(X.T.dot(h-y)) ## Gradient descent function\n",
    "        J_history.append(computeCostMulti(X, y, theta)) ## Append the cost to the J_history array\n",
    "    return theta, J_history ## Return the final values of theta and the J_history array\n",
    "\n",
    "\n",
    "iter = 400 ## Initialize the iteration parameter.\n",
    "alpha = 0.01 ## Initialize the learning rate.\n",
    "\n",
    "## Call the function and pass in the parameters to compute new coefficient.\n",
    "new_theta, J_history = gradientDescentMulti(X, y, theta, alpha, iter)\n",
    "\n",
    "print (new_theta)"
   ]
  },
  {
   "cell_type": "markdown",
   "metadata": {},
   "source": [
    "Now we use the optimized coefficients to recompute the cost to see if there's been any change."
   ]
  },
  {
   "cell_type": "code",
   "execution_count": 15,
   "metadata": {},
   "outputs": [],
   "source": [
    "new_cost = computeCostMulti(X,y,new_theta) ## We call the function again, but use the new coefficients."
   ]
  },
  {
   "cell_type": "code",
   "execution_count": 891,
   "metadata": {},
   "outputs": [
    {
     "data": {
      "text/plain": [
       "2105448288.6292474"
      ]
     },
     "execution_count": 891,
     "metadata": {},
     "output_type": "execute_result"
    }
   ],
   "source": [
    "print(new_cost)"
   ]
  },
  {
   "cell_type": "markdown",
   "metadata": {},
   "source": [
    "The cost was 65591548106.45744, it is now 2105448288.6292474. There's a huge improvement."
   ]
  },
  {
   "cell_type": "markdown",
   "metadata": {},
   "source": [
    "Let's plot cost against number of iterations to see how the cost changed as the algorithm ran."
   ]
  },
  {
   "cell_type": "code",
   "execution_count": 846,
   "metadata": {},
   "outputs": [
    {
     "data": {
      "text/plain": [
       "Text(0.5, 1.0, 'Minimizing Cost Using Gradient Descent')"
      ]
     },
     "execution_count": 846,
     "metadata": {},
     "output_type": "execute_result"
    },
    {
     "data": {
      "image/png": "[encoded data removed]",
      "text/plain": [
       "<Figure size 432x288 with 1 Axes>"
      ]
     },
     "metadata": {
      "needs_background": "light"
     },
     "output_type": "display_data"
    }
   ],
   "source": [
    "plt.plot(J_history)\n",
    "plt.ylabel('Cost J')\n",
    "plt.xlabel('Number of Iterations')\n",
    "plt.title('Minimizing Cost Using Gradient Descent')"
   ]
  },
  {
   "cell_type": "markdown",
   "metadata": {},
   "source": [
    "The graph shows that cost fell steadily until about the 200th iteration, then it kind of flattened out. \n",
    "This also proves the gradient descent algorithm performed well."
   ]
  },
  {
   "cell_type": "markdown",
   "metadata": {},
   "source": [
    "# Selecting Learning Rate"
   ]
  },
  {
   "cell_type": "markdown",
   "metadata": {},
   "source": [
    "The task here is to use the gradient descent algorithm to test several learning rates in order to select the most \n",
    "efficient one. We test the following values as learning rates 0.3,0.1,0.03,0.01, 0.003, and 0.001. We run the gradient \n",
    "descent algorithm on each occasion for 50 iterations, then we plot the cost against number of iterations for each \n",
    "learning rate, to determine the learning rate that converges faster than all the others."
   ]
  },
  {
   "cell_type": "code",
   "execution_count": 847,
   "metadata": {},
   "outputs": [],
   "source": [
    "## Call the gradient descent algorithm with a different learning rate on each occassion. \n",
    "## All other parameters remain constant\n",
    "theta_1, J_history_1 = gradientDescentMulti(X, y, theta, 0.3, 50)\n",
    "theta_2, J_history_2 = gradientDescentMulti(X, y, theta, 0.1, 50)\n",
    "theta_3, J_history_3 = gradientDescentMulti(X, y, theta, 0.03, 50)\n",
    "theta_4, J_history_4 = gradientDescentMulti(X, y, theta, 0.01, 50)\n",
    "theta_5, J_history_5 = gradientDescentMulti(X, y, theta, 0.003, 50)\n",
    "theta_6, J_history_6 = gradientDescentMulti(X, y, theta, 0.001, 50)"
   ]
  },
  {
   "cell_type": "code",
   "execution_count": 848,
   "metadata": {},
   "outputs": [
    {
     "data": {
      "text/plain": [
       "<matplotlib.legend.Legend at 0x215d30ac668>"
      ]
     },
     "execution_count": 848,
     "metadata": {},
     "output_type": "execute_result"
    },
    {
     "data": {
      "image/png": "[encoded data removed]",
      "text/plain": [
       "<Figure size 432x288 with 1 Axes>"
      ]
     },
     "metadata": {
      "needs_background": "light"
     },
     "output_type": "display_data"
    }
   ],
   "source": [
    "## Plot the cost againt number of iterations for each learning rate\n",
    "plt.plot(J_history_1, label='0.3')\n",
    "plt.plot(J_history_2, label='0.1')\n",
    "plt.plot(J_history_3, label='0.03')\n",
    "plt.plot(J_history_4, label='0.01')\n",
    "plt.plot(J_history_5, label='0.003')\n",
    "plt.plot(J_history_6, label='0.001')\n",
    "plt.title('Testing Different Learning Rates')\n",
    "plt.xlabel('Number of Iterations')\n",
    "plt.ylabel('Cost J')\n",
    "plt.legend(bbox_to_anchor=(1.05, 1.0))"
   ]
  },
  {
   "cell_type": "markdown",
   "metadata": {},
   "source": [
    "The graph shows that the curve in blue, which represents a learning rate of 0.3 converges faster than all the other curves. Therefore the best learning rate for this model is 0.3.\n",
    "\n",
    "Now that we know the best learning rate is 0.3, we run the algorithm again using 0.3 as learning rate to obtain a fresh set of coefficients."
   ]
  },
  {
   "cell_type": "code",
   "execution_count": 892,
   "metadata": {},
   "outputs": [],
   "source": [
    "## Using the best learning rate (0.3), we run gradient descent again to find the coefficients.\n",
    "theta, J_history = gradientDescentMulti(X, y, theta, 0.3, 1500)"
   ]
  },
  {
   "cell_type": "code",
   "execution_count": 893,
   "metadata": {},
   "outputs": [
    {
     "name": "stdout",
     "output_type": "stream",
     "text": [
      "[[340412.65957447]\n",
      " [109447.79646964]\n",
      " [ -6578.35485416]]\n"
     ]
    }
   ],
   "source": [
    "print(theta) ## Print the new theta values."
   ]
  },
  {
   "cell_type": "markdown",
   "metadata": {},
   "source": [
    "We have further optimized our coefficients, now we are ready to predict housing prices."
   ]
  },
  {
   "cell_type": "markdown",
   "metadata": {},
   "source": [
    "# Prediction"
   ]
  },
  {
   "cell_type": "markdown",
   "metadata": {},
   "source": [
    "We need to predict the price of a house with an area of 1650 square feet and has 3 bedrooms. \n",
    "First we need to normalize the features, then add the bias term (1) to X.\n",
    "\n",
    "X = [1650, 3]"
   ]
  },
  {
   "cell_type": "code",
   "execution_count": 897,
   "metadata": {},
   "outputs": [
    {
     "name": "stdout",
     "output_type": "stream",
     "text": [
      "[[ 1.         -0.44604386 -0.22609337]]\n"
     ]
    }
   ],
   "source": [
    "## TO PREDICT THE PRICE OF A HOUSE WITH 1650 SQUARE FEET AND 3 BEDROOMS\n",
    "#First normalize the features\n",
    "X = np.array([1650, 3]) ## Convert X to a numpy array\n",
    "\n",
    "X = (X - mean)/std   ## Normalize X by subtracting the mean of the distribution from X, and then divide by \n",
    "the standard deviation.\n",
    "\n",
    "X = np.append(1, X) ## Add the bias term\n",
    "\n",
    "X = np.reshape(X, (1,3)) ## Reshape X to a 1x3 array\n",
    "\n",
    "print(X) ## Print X to see waht it currently looks like"
   ]
  },
  {
   "cell_type": "markdown",
   "metadata": {},
   "source": [
    "Define a function for predicting house prices."
   ]
  },
  {
   "cell_type": "code",
   "execution_count": 898,
   "metadata": {},
   "outputs": [],
   "source": [
    "def prediction(X, theta):\n",
    "    '''\n",
    "    This function takes in the features of the house \n",
    "    as well as the coefficients, and returns the \n",
    "    predicted price.\n",
    "    '''\n",
    "    return np.dot(X, theta)"
   ]
  },
  {
   "cell_type": "code",
   "execution_count": 899,
   "metadata": {},
   "outputs": [],
   "source": [
    "pred = prediction(X, theta) ## Call the function "
   ]
  },
  {
   "cell_type": "code",
   "execution_count": 900,
   "metadata": {},
   "outputs": [
    {
     "name": "stdout",
     "output_type": "stream",
     "text": [
      "[[293081.4643349]]\n"
     ]
    }
   ],
   "source": [
    "print(pred)"
   ]
  },
  {
   "cell_type": "markdown",
   "metadata": {},
   "source": [
    "We obtain 293081.46433489 as the predicted price for a house with an area of 1650 square feet and has 3 bedrooms. We can use the coefficients generated above to predict the price of any house as long as we have the size and the number of rooms. We will make a note of this prediction, we will need to compare it to the prediction when we use the normal equation to solve the same problem in part 2.\n",
    "\n",
    "Gradient descent is cumbersome to implement, but it is very popular because it scales well with large datasets."
   ]
  },
  {
   "cell_type": "code",
   "execution_count": null,
   "metadata": {},
   "outputs": [],
   "source": []
  }
 ],
 "metadata": {
  "kernelspec": {
   "display_name": "Python 3",
   "language": "python",
   "name": "python3"
  },
  "language_info": {
   "codemirror_mode": {
    "name": "ipython",
    "version": 3
   },
   "file_extension": ".py",
   "mimetype": "text/x-python",
   "name": "python",
   "nbconvert_exporter": "python",
   "pygments_lexer": "ipython3",
   "version": "3.7.3"
  }
 },
 "nbformat": 4,
 "nbformat_minor": 2
}
